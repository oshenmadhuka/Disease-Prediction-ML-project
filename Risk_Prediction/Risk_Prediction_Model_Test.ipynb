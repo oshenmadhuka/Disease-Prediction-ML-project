{
 "cells": [
  {
   "cell_type": "markdown",
   "id": "5ef08071-670c-41e0-a500-8210c821b76f",
   "metadata": {},
   "source": [
    "## Load the pickle file"
   ]
  },
  {
   "cell_type": "code",
   "execution_count": 2,
   "id": "99e31b6e-de7a-4028-8ae2-fb05b95b6356",
   "metadata": {},
   "outputs": [
    {
     "name": "stdout",
     "output_type": "stream",
     "text": [
      "Model loaded successfully!\n"
     ]
    }
   ],
   "source": [
    "import pickle\n",
    "import pandas as pd\n",
    "\n",
    "# Load the saved model from the pickle file\n",
    "with open('Risk_Prediction_model.pkl', 'rb') as file:\n",
    "    loaded_model = pickle.load(file)\n",
    "\n",
    "print(\"Model loaded successfully!\")"
   ]
  },
  {
   "cell_type": "markdown",
   "id": "51af13b6-4935-4690-8cd8-f0d673ea9c4c",
   "metadata": {},
   "source": [
    "## Input data"
   ]
  },
  {
   "cell_type": "code",
   "execution_count": 4,
   "id": "5fd4e6f5-0cba-4b24-a147-8b44ba1b7a88",
   "metadata": {},
   "outputs": [],
   "source": [
    "# List of all possible symptoms (same as features used during training)\n",
    "all_symptoms = ['Sneezing', 'Runny_Nose', 'Headache', 'High Fever', 'Bodyache', 'Blocked_Nose', 'Tonsils', 'Throught_Iritation', 'Fatigue', 'Less_of_appetite', 'Eye Redness', 'Lethargy', 'Dry_Cough', 'Vomiting', 'Nausea', 'Breath_difficulties', 'Painful_swallowing', 'Throaty_voice', 'Smelly_breath', 'Sleepiness', 'Aggressiveness', 'Neckache', 'Nervousness', 'Heavy Headness', 'Burning sensation of stomach', 'Eye_ pain', 'Light Sensitivity', 'Loose tools', 'Stomach ache', 'Constipation', 'Throught burning sensation', 'Sore anus', 'Back Pain', 'Flatulence', 'Radiation feel along legs', 'Muscles stiffnesses of legs', 'Cramps', 'Numbness of Legs and Feet', 'Knee Pain', 'Prolonged numbness', 'Excessive thirst', 'Frequent urination', 'Blurred vision', 'Slow healing of wounds', 'Unexplained weight loss', 'Dizziness', 'Chest pain', 'Chest Tightness', 'Wheezing', 'Difficulty falling asleep', 'Waking up during the night', 'Irritability', 'Difficulty concentrating', 'Joint pain', 'Morning stiffness', 'Swelling', 'Limited movement', 'Grating sound during movement', 'Warmth in the affected joints', 'Joint deformities', 'Itchy eyes and skin', 'Skin rash', 'Mild bleeding (gums, nose)', 'Itchy red spots', 'Painful urination', 'Frequent urge to urinate', 'Cloudy or strong-smelling urine', 'Pelvic pain', 'Increased Appetite', 'Sweating', 'Hair loss', 'Photosensitivity', 'Oral ulcers']\n",
    "\n",
    "# Function to create input data based on symptoms provided by the user\n",
    "def create_input_data(provided_symptoms):\n",
    "    # Create a default input row (all symptoms set to 0)\n",
    "    input_data = {symptom: 0 for symptom in all_symptoms}\n",
    "    \n",
    "    # Set the symptoms provided by the user to 1\n",
    "    for symptom in provided_symptoms:\n",
    "        if symptom in input_data:\n",
    "            input_data[symptom] = 1\n",
    "    \n",
    "    # Convert to DataFrame for model prediction\n",
    "    input_df = pd.DataFrame([input_data])\n",
    "    \n",
    "    return input_df\n"
   ]
  },
  {
   "cell_type": "markdown",
   "id": "4e6b74ec-4563-406d-bd05-e9bcf282b999",
   "metadata": {},
   "source": [
    "## Make Predictions Using the Loaded Model"
   ]
  },
  {
   "cell_type": "code",
   "execution_count": 6,
   "id": "47eac7f5-a5d4-4244-87bb-084054387e43",
   "metadata": {},
   "outputs": [
    {
     "ename": "NotFittedError",
     "evalue": "This DecisionTreeClassifier instance is not fitted yet. Call 'fit' with appropriate arguments before using this estimator.",
     "output_type": "error",
     "traceback": [
      "\u001b[1;31m---------------------------------------------------------------------------\u001b[0m",
      "\u001b[1;31mNotFittedError\u001b[0m                            Traceback (most recent call last)",
      "Cell \u001b[1;32mIn[6], line 8\u001b[0m\n\u001b[0;32m      5\u001b[0m new_input_data \u001b[38;5;241m=\u001b[39m create_input_data(user_symptoms)\n\u001b[0;32m      7\u001b[0m \u001b[38;5;66;03m# Make the prediction using the loaded model\u001b[39;00m\n\u001b[1;32m----> 8\u001b[0m prediction \u001b[38;5;241m=\u001b[39m loaded_model\u001b[38;5;241m.\u001b[39mpredict(new_input_data)\n\u001b[0;32m     10\u001b[0m \u001b[38;5;66;03m# Print the predicted risk\u001b[39;00m\n\u001b[0;32m     11\u001b[0m \u001b[38;5;28mprint\u001b[39m(\u001b[38;5;124m\"\u001b[39m\u001b[38;5;124mPredicted Risk: \u001b[39m\u001b[38;5;124m\"\u001b[39m, prediction[\u001b[38;5;241m0\u001b[39m])\n",
      "File \u001b[1;32mE:\\Anaconda\\Lib\\site-packages\\sklearn\\tree\\_classes.py:528\u001b[0m, in \u001b[0;36mBaseDecisionTree.predict\u001b[1;34m(self, X, check_input)\u001b[0m\n\u001b[0;32m    505\u001b[0m \u001b[38;5;28;01mdef\u001b[39;00m \u001b[38;5;21mpredict\u001b[39m(\u001b[38;5;28mself\u001b[39m, X, check_input\u001b[38;5;241m=\u001b[39m\u001b[38;5;28;01mTrue\u001b[39;00m):\n\u001b[0;32m    506\u001b[0m \u001b[38;5;250m    \u001b[39m\u001b[38;5;124;03m\"\"\"Predict class or regression value for X.\u001b[39;00m\n\u001b[0;32m    507\u001b[0m \n\u001b[0;32m    508\u001b[0m \u001b[38;5;124;03m    For a classification model, the predicted class for each sample in X is\u001b[39;00m\n\u001b[1;32m   (...)\u001b[0m\n\u001b[0;32m    526\u001b[0m \u001b[38;5;124;03m        The predicted classes, or the predict values.\u001b[39;00m\n\u001b[0;32m    527\u001b[0m \u001b[38;5;124;03m    \"\"\"\u001b[39;00m\n\u001b[1;32m--> 528\u001b[0m     check_is_fitted(\u001b[38;5;28mself\u001b[39m)\n\u001b[0;32m    529\u001b[0m     X \u001b[38;5;241m=\u001b[39m \u001b[38;5;28mself\u001b[39m\u001b[38;5;241m.\u001b[39m_validate_X_predict(X, check_input)\n\u001b[0;32m    530\u001b[0m     proba \u001b[38;5;241m=\u001b[39m \u001b[38;5;28mself\u001b[39m\u001b[38;5;241m.\u001b[39mtree_\u001b[38;5;241m.\u001b[39mpredict(X)\n",
      "File \u001b[1;32mE:\\Anaconda\\Lib\\site-packages\\sklearn\\utils\\validation.py:1622\u001b[0m, in \u001b[0;36mcheck_is_fitted\u001b[1;34m(estimator, attributes, msg, all_or_any)\u001b[0m\n\u001b[0;32m   1619\u001b[0m     \u001b[38;5;28;01mraise\u001b[39;00m \u001b[38;5;167;01mTypeError\u001b[39;00m(\u001b[38;5;124m\"\u001b[39m\u001b[38;5;132;01m%s\u001b[39;00m\u001b[38;5;124m is not an estimator instance.\u001b[39m\u001b[38;5;124m\"\u001b[39m \u001b[38;5;241m%\u001b[39m (estimator))\n\u001b[0;32m   1621\u001b[0m \u001b[38;5;28;01mif\u001b[39;00m \u001b[38;5;129;01mnot\u001b[39;00m _is_fitted(estimator, attributes, all_or_any):\n\u001b[1;32m-> 1622\u001b[0m     \u001b[38;5;28;01mraise\u001b[39;00m NotFittedError(msg \u001b[38;5;241m%\u001b[39m {\u001b[38;5;124m\"\u001b[39m\u001b[38;5;124mname\u001b[39m\u001b[38;5;124m\"\u001b[39m: \u001b[38;5;28mtype\u001b[39m(estimator)\u001b[38;5;241m.\u001b[39m\u001b[38;5;18m__name__\u001b[39m})\n",
      "\u001b[1;31mNotFittedError\u001b[0m: This DecisionTreeClassifier instance is not fitted yet. Call 'fit' with appropriate arguments before using this estimator."
     ]
    }
   ],
   "source": [
    "# Example: User provides symptoms that are 1\n",
    "user_symptoms = ['Runny_Nose', 'Headache', 'High Fever']  # Only these symptoms are 1\n",
    "\n",
    "# Create the input data for prediction\n",
    "new_input_data = create_input_data(user_symptoms)\n",
    "\n",
    "# Make the prediction using the loaded model\n",
    "prediction = loaded_model.predict(new_input_data)\n",
    "\n",
    "# Print the predicted risk\n",
    "print(\"Predicted Risk: \", prediction[0])\n"
   ]
  },
  {
   "cell_type": "code",
   "execution_count": null,
   "id": "95c0f5a7-8dd2-42d8-95ac-6ebc862f77b5",
   "metadata": {},
   "outputs": [],
   "source": []
  }
 ],
 "metadata": {
  "kernelspec": {
   "display_name": "Python 3 (ipykernel)",
   "language": "python",
   "name": "python3"
  },
  "language_info": {
   "codemirror_mode": {
    "name": "ipython",
    "version": 3
   },
   "file_extension": ".py",
   "mimetype": "text/x-python",
   "name": "python",
   "nbconvert_exporter": "python",
   "pygments_lexer": "ipython3",
   "version": "3.12.4"
  }
 },
 "nbformat": 4,
 "nbformat_minor": 5
}
