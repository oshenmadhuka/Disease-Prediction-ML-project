{
 "cells": [
  {
   "cell_type": "markdown",
   "id": "5ef08071-670c-41e0-a500-8210c821b76f",
   "metadata": {},
   "source": [
    "## Load the pickle file"
   ]
  },
  {
   "cell_type": "code",
   "execution_count": 8,
   "id": "99e31b6e-de7a-4028-8ae2-fb05b95b6356",
   "metadata": {},
   "outputs": [
    {
     "name": "stdout",
     "output_type": "stream",
     "text": [
      "Model loaded successfully!\n"
     ]
    }
   ],
   "source": [
    "import pickle\n",
    "import pandas as pd\n",
    "\n",
    "# Load the saved model from the pickle file\n",
    "with open('Risk_Prediction_Model.pkl', 'rb') as file:\n",
    "    loaded_model = pickle.load(file)\n",
    "\n",
    "print(\"Model loaded successfully!\")"
   ]
  },
  {
   "cell_type": "markdown",
   "id": "51af13b6-4935-4690-8cd8-f0d673ea9c4c",
   "metadata": {},
   "source": [
    "## Input data"
   ]
  },
  {
   "cell_type": "code",
   "execution_count": 11,
   "id": "5fd4e6f5-0cba-4b24-a147-8b44ba1b7a88",
   "metadata": {},
   "outputs": [],
   "source": [
    "# List of all possible symptoms (same as features used during training)\n",
    "all_symptoms = ['Sneezing', 'Runny_Nose', 'Headache', 'High Fever', 'Bodyache', 'Blocked_Nose', 'Tonsils', 'Throught_Iritation', 'Fatigue', 'Less_of_appetite', 'Eye Redness', 'Lethargy', 'Dry_Cough', 'Vomiting', 'Nausea', 'Breath_difficulties', 'Painful_swallowing', 'Throaty_voice', 'Smelly_breath', 'Sleepiness', 'Aggressiveness', 'Neckache', 'Nervousness', 'Heavy Headness', 'Burning sensation of stomach', 'Eye_ pain', 'Light Sensitivity', 'Loose tools', 'Stomach ache', 'Constipation', 'Throught burning sensation', 'Sore anus', 'Back Pain', 'Flatulence', 'Radiation feel along legs', 'Muscles stiffnesses of legs', 'Cramps', 'Numbness of Legs and Feet', 'Knee Pain', 'Prolonged numbness', 'Excessive thirst', 'Frequent urination', 'Blurred vision', 'Slow healing of wounds', 'Unexplained weight loss', 'Dizziness', 'Chest pain', 'Chest Tightness', 'Wheezing', 'Difficulty falling asleep', 'Waking up during the night', 'Irritability', 'Difficulty concentrating', 'Joint pain', 'Morning stiffness', 'Swelling', 'Limited movement', 'Grating sound during movement', 'Warmth in the affected joints', 'Joint deformities', 'Itchy eyes and skin', 'Skin rash', 'Mild bleeding (gums, nose)', 'Itchy red spots', 'Painful urination', 'Frequent urge to urinate', 'Cloudy or strong-smelling urine', 'Pelvic pain', 'Increased Appetite', 'Sweating', 'Hair loss', 'Photosensitivity', 'Oral ulcers']\n",
    "\n",
    "# Function to create input data based on symptoms provided by the user\n",
    "def create_input_data(provided_symptoms):\n",
    "    # Create a default input row (all symptoms set to 0)\n",
    "    input_data = {symptom: 0 for symptom in all_symptoms}\n",
    "    \n",
    "    # Set the symptoms provided by the user to 1\n",
    "    for symptom in provided_symptoms:\n",
    "        if symptom in input_data:\n",
    "            input_data[symptom] = 1\n",
    "    \n",
    "    # Convert to DataFrame for model prediction\n",
    "    input_df = pd.DataFrame([input_data])\n",
    "    \n",
    "    return input_df\n"
   ]
  },
  {
   "cell_type": "markdown",
   "id": "4e6b74ec-4563-406d-bd05-e9bcf282b999",
   "metadata": {},
   "source": [
    "## Make Predictions Using the Loaded Model"
   ]
  },
  {
   "cell_type": "code",
   "execution_count": 14,
   "id": "47eac7f5-a5d4-4244-87bb-084054387e43",
   "metadata": {},
   "outputs": [
    {
     "name": "stdout",
     "output_type": "stream",
     "text": [
      "Predicted Risk:  1\n"
     ]
    }
   ],
   "source": [
    "# Example: User provides symptoms that are 1\n",
    "user_symptoms = ['Runny_Nose', 'Headache', 'High Fever']  # Only these symptoms are 1\n",
    "\n",
    "# Create the input data for prediction\n",
    "new_input_data = create_input_data(user_symptoms)\n",
    "\n",
    "# Make the prediction using the loaded model\n",
    "prediction = loaded_model.predict(new_input_data)\n",
    "\n",
    "# Print the predicted risk\n",
    "print(\"Predicted Risk: \", prediction[0])\n"
   ]
  },
  {
   "cell_type": "code",
   "execution_count": null,
   "id": "95c0f5a7-8dd2-42d8-95ac-6ebc862f77b5",
   "metadata": {},
   "outputs": [],
   "source": []
  }
 ],
 "metadata": {
  "kernelspec": {
   "display_name": "Python 3 (ipykernel)",
   "language": "python",
   "name": "python3"
  },
  "language_info": {
   "codemirror_mode": {
    "name": "ipython",
    "version": 3
   },
   "file_extension": ".py",
   "mimetype": "text/x-python",
   "name": "python",
   "nbconvert_exporter": "python",
   "pygments_lexer": "ipython3",
   "version": "3.12.4"
  }
 },
 "nbformat": 4,
 "nbformat_minor": 5
}
