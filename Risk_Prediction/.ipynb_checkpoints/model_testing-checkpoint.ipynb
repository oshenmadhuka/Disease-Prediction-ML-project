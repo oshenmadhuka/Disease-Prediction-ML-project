{
 "cells": [
  {
   "cell_type": "code",
   "execution_count": 3,
   "id": "fa47700b-7cd3-4d68-b6d9-cf409f9822e7",
   "metadata": {},
   "outputs": [
    {
     "name": "stdout",
     "output_type": "stream",
     "text": [
      "Predicted Risk: 2\n"
     ]
    },
    {
     "name": "stderr",
     "output_type": "stream",
     "text": [
      "E:\\Anaconda\\Lib\\site-packages\\sklearn\\base.py:486: UserWarning: X has feature names, but RandomForestClassifier was fitted without feature names\n",
      "  warnings.warn(\n"
     ]
    }
   ],
   "source": [
    "import joblib\n",
    "import pandas as pd\n",
    "\n",
    "# Load the trained model and encoder\n",
    "model = joblib.load('best_model_risk_prediction.pkl')\n",
    "label_encoder = joblib.load('label_encoder.pkl')\n",
    "\n",
    "# Define symptom columns as per your model training\n",
    "symptom_columns = [\n",
    "    'Sneezing', 'Runny_Nose', 'Headache', 'High Fever', 'Bodyache',\n",
    "    'Blocked_Nose', 'Tonsils', 'Throught_Iritation', 'Fatigue', \n",
    "    'Less_of_appetite', 'Eye Redness', 'Lethargy', 'Dry_Cough', \n",
    "    'Vomiting', 'Nausea', 'Breath_difficulties', 'Painful_swallowing', \n",
    "    'Throaty_voice', 'Smelly_breath', 'Sleepiness', 'Aggressiveness', \n",
    "    'Neckache', 'Nervousness', 'Heavy Headness', 'Burning sensation of stomach', \n",
    "    'Eye_ pain', 'Light Sensitivity', 'Loose tools', 'Stomach ache', \n",
    "    'Constipation', 'Throught burning sensation', 'Sore anus', 'Back Pain', \n",
    "    'Flatulence', 'Radiation feel along legs', 'Muscles stiffnesses of legs', \n",
    "    'Cramps', 'Numbness of Legs and Feet', 'Knee Pain', 'Prolonged numbness', \n",
    "    'Excessive thirst', 'Frequent urination', 'Blurred vision', \n",
    "    'Slow healing of wounds', 'Unexplained weight loss', 'Dizziness', \n",
    "    'Chest pain', 'Chest Tightness', 'Wheezing', 'Difficulty falling asleep', \n",
    "    'Waking up during the night', 'Irritability', 'Difficulty concentrating', \n",
    "    'Joint pain', 'Morning stiffness', 'Swelling', 'Limited movement', \n",
    "    'Grating sound during movement', 'Warmth in the affected joints', \n",
    "    'Joint deformities', 'Itchy eyes and skin', 'Skin rash', \n",
    "    'Mild bleeding (gums, nose)', 'Itchy red spots', 'Painful urination', \n",
    "    'Frequent urge to urinate', 'Cloudy or strong-smelling urine', \n",
    "    'Pelvic pain', 'Increased Appetite', 'Sweating', 'Hair loss', \n",
    "    'Photosensitivity', 'Oral ulcers'\n",
    "]\n",
    "\n",
    "def create_feature_vector(prognosis, symptoms, all_symptom_columns):\n",
    "    # Create a dictionary for the feature vector\n",
    "    feature_vector = {symptom: 0 for symptom in all_symptom_columns}\n",
    "    \n",
    "    # Set symptoms that are present to 1\n",
    "    for symptom in symptoms:\n",
    "        if symptom in feature_vector:\n",
    "            feature_vector[symptom] = 1\n",
    "\n",
    "    # Encode prognosis\n",
    "    encoded_prognosis = label_encoder.transform([prognosis])[0]\n",
    "\n",
    "    # Add prognosis to the feature vector\n",
    "    feature_vector['prognosis'] = encoded_prognosis\n",
    "\n",
    "    return pd.DataFrame([feature_vector])\n",
    "\n",
    "#A list of prognosis\n",
    "\n",
    "# ['Allergy' 'Arthritis' 'Asthma' 'Back Pain' 'Catarrh' 'Chickenpox'\n",
    "#  'Common_Cold' 'Dengue' 'Diabetes' 'Gastritis' 'High Blood Pressure'\n",
    "#  'Influenza' 'Insomnia' 'Kidney Stones' 'Lupus' 'Migrain' 'Osteoarthritis'\n",
    "#  'Throat Infection' 'Tonsillitis' 'Urinary Tract Infection']\n",
    "\n",
    "# Example input\n",
    "input_prognosis = 'Allergy'  # Replace with the actual prognosis \n",
    "input_symptoms = ['Sneezing', 'Headache', 'Bodyache']\n",
    "feature_vector = create_feature_vector(input_prognosis, input_symptoms, symptom_columns)\n",
    "\n",
    "# Make predictions\n",
    "prediction = model.predict(feature_vector)\n",
    "\n",
    "print(f'Predicted Risk: {prediction[0]}')\n"
   ]
  },
  {
   "cell_type": "code",
   "execution_count": 5,
   "id": "3897d567-077a-4d60-99c5-725be26ce998",
   "metadata": {},
   "outputs": [
    {
     "name": "stdout",
     "output_type": "stream",
     "text": [
      "Predicted Risk: Asthma\n"
     ]
    }
   ],
   "source": [
    "risk_label_encoder = joblib.load('label_encoder.pkl')\n",
    "\n",
    "# Assuming the label encoder is loaded as 'risk_label_encoder'\n",
    "risk_label = risk_label_encoder.inverse_transform(prediction)\n",
    "print(f'Predicted Risk: {risk_label[0]}')"
   ]
  },
  {
   "cell_type": "code",
   "execution_count": null,
   "id": "7b761192-7817-4bd7-9343-9265c8fbe8c3",
   "metadata": {},
   "outputs": [],
   "source": []
  }
 ],
 "metadata": {
  "kernelspec": {
   "display_name": "Python 3 (ipykernel)",
   "language": "python",
   "name": "python3"
  },
  "language_info": {
   "codemirror_mode": {
    "name": "ipython",
    "version": 3
   },
   "file_extension": ".py",
   "mimetype": "text/x-python",
   "name": "python",
   "nbconvert_exporter": "python",
   "pygments_lexer": "ipython3",
   "version": "3.12.4"
  }
 },
 "nbformat": 4,
 "nbformat_minor": 5
}
